{
  "nbformat": 4,
  "nbformat_minor": 0,
  "metadata": {
    "colab": {
      "provenance": []
    },
    "kernelspec": {
      "name": "python3",
      "display_name": "Python 3"
    },
    "language_info": {
      "name": "python"
    },
    "accelerator": "GPU",
    "gpuClass": "standard"
  },
  "cells": [
    {
      "cell_type": "code",
      "source": [
        "%run -i cnn_utils.py\n",
        "%run -i data_setup.py\n",
        "%run -i restnet.py"
      ],
      "metadata": {
        "id": "ZEgoTdEwNBOp"
      },
      "execution_count": 2,
      "outputs": []
    },
    {
      "cell_type": "code",
      "source": [
        "train_loader, test_loader, classes = load_data(batch_size=32, dataset='signs_dataset')"
      ],
      "metadata": {
        "id": "O7xlNx5ZMBcy"
      },
      "execution_count": 3,
      "outputs": []
    },
    {
      "cell_type": "code",
      "source": [
        "device = 'cuda' if torch.cuda.is_available() else 'cpu'"
      ],
      "metadata": {
        "id": "hywF6apYQXpr"
      },
      "execution_count": 4,
      "outputs": []
    },
    {
      "cell_type": "code",
      "source": [
        "from torch import optim\n",
        "from torchmetrics import Accuracy"
      ],
      "metadata": {
        "id": "6mt9P076RrSD"
      },
      "execution_count": 8,
      "outputs": []
    },
    {
      "cell_type": "code",
      "source": [
        "torch.manual_seed(42)\n",
        "no_blocks = [3, 4, 6, 3]\n",
        "\n",
        "model = ResNet(no_blocks, classes=len(classes)).to(device)\n",
        "loss_fn = nn.CrossEntropyLoss()\n",
        "optimizer = optim.SGD(model.parameters(), lr=0.001, momentum=0.9)\n",
        "acc_fn = Accuracy(task=\"multiclass\", num_classes=len(classes)).to(device)\n",
        "\n",
        "for epoch in range(10):\n",
        "  loss_train, acc_train = 0., 0.\n",
        "  loss_test, acc_test = 0., 0.\n",
        "\n",
        "  model.train()\n",
        "  for x, y in train_loader:\n",
        "    x, y = x.to(device), y.to(torch.long).to(device)\n",
        "    optimizer.zero_grad()\n",
        "\n",
        "    output = model(x)\n",
        "    loss = loss_fn(output, y.squeeze())\n",
        "    acc_train += acc_fn(output, y.squeeze())\n",
        "    loss.backward()\n",
        "    optimizer.step()\n",
        "    loss_train += loss.item()\n",
        "\n",
        "  model.eval()\n",
        "  with torch.inference_mode():\n",
        "    for x, y in test_loader:\n",
        "      x, y = x.to(device), y.to(torch.long).to(device)\n",
        "      test_output = model(x)\n",
        "      test_loss = loss_fn(test_output, y.squeeze())\n",
        "      loss_test += test_loss.item()\n",
        "      acc_test += acc_fn(test_output, y.squeeze())\n",
        "    loss_test /=len(test_loader)\n",
        "    acc_test /=len(test_loader)\n",
        "\n",
        "      \n",
        "  loss_train /= len(train_loader)\n",
        "  acc_train /= len(train_loader)\n",
        "\n",
        "  #loss_test = loss_test/len(test_loader)\n",
        "  print(f\"Train: {loss_train:.3f} | {acc_train:.3f} || Test: {loss_test:.3} | {acc_test:.3f}\")\n",
        "  #print(f\"{loss_train:.3f}\")\n",
        "\n"
      ],
      "metadata": {
        "colab": {
          "base_uri": "https://localhost:8080/"
        },
        "id": "BlBYjeUQPjeL",
        "outputId": "8becd762-e296-4e47-9b52-4675fd359513"
      },
      "execution_count": 12,
      "outputs": [
        {
          "output_type": "stream",
          "name": "stdout",
          "text": [
            "Train: 1.656 | 0.311 || Test: 16.6 | 0.166\n",
            "Train: 0.713 | 0.721 || Test: 0.898 | 0.664\n",
            "Train: 0.388 | 0.862 || Test: 0.159 | 0.972\n",
            "Train: 0.172 | 0.941 || Test: 0.0703 | 0.983\n",
            "Train: 0.138 | 0.951 || Test: 0.109 | 0.959\n",
            "Train: 0.094 | 0.968 || Test: 0.0457 | 0.985\n",
            "Train: 0.079 | 0.970 || Test: 0.0223 | 0.995\n",
            "Train: 0.063 | 0.975 || Test: 0.0347 | 0.989\n",
            "Train: 0.080 | 0.970 || Test: 0.0241 | 0.994\n",
            "Train: 0.036 | 0.993 || Test: 0.0205 | 0.992\n"
          ]
        }
      ]
    }
  ]
}